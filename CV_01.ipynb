{
 "cells": [
  {
   "cell_type": "markdown",
   "id": "f0ad10ea",
   "metadata": {},
   "source": [
    "# Computer Vision with OpenCV"
   ]
  },
  {
   "cell_type": "markdown",
   "id": "6260229d",
   "metadata": {},
   "source": [
    "### Reading, Writing and Displaying Image"
   ]
  },
  {
   "cell_type": "markdown",
   "id": "aaaca665",
   "metadata": {},
   "source": [
    "#### Import the OpenCV library "
   ]
  },
  {
   "cell_type": "markdown",
   "id": "07d392f6",
   "metadata": {},
   "source": [
    "\n",
    "import cv2\n",
    "\n",
    "\n",
    "**Purpose:**  \n",
    "This command imports the OpenCV library in Python, making all of its powerful computer vision and image processing functions available in your script or notebook under the alias `cv2`.\n",
    "\n",
    "**Meaning:**  \n",
    "- **OpenCV** (Open Source Computer Vision Library) is a widely-used open-source library that provides a vast collection of functions for real-time computer vision, image processing, and machine learning.  \n",
    "- By importing `cv2`, you can read, write, display, and manipulate images and videos in numerous ways.\n",
    "\n",
    "**Summary:**  \n",
    "- `import cv2` is the essential first step for using OpenCV functionality in a Python project involving image or video analysis."
   ]
  },
  {
   "cell_type": "code",
   "execution_count": null,
   "id": "11e885d1",
   "metadata": {},
   "outputs": [],
   "source": [
    "# Import necessary libraries\n",
    "import cv2"
   ]
  },
  {
   "cell_type": "code",
   "execution_count": null,
   "id": "059a068e",
   "metadata": {},
   "outputs": [],
   "source": [
    "# Import numpy for numerical operations\n",
    "import numpy as np"
   ]
  },
  {
   "cell_type": "markdown",
   "id": "27f773cf",
   "metadata": {},
   "source": [
    "\n",
    "\n",
    "#### Purpose\n",
    "\n",
    "- **Read an image from the disk** and **display it to the user** in a separate window.\n",
    "- Provides a quick way to visualize an image file for debugging, processing confirmation, or previewing during computer vision tasks.\n",
    "\n",
    "#### Meaning\n",
    "\n",
    "| Code Line                        | Description                                                      | Role/Usage                                                        |\n",
    "|---------------------------------|------------------------------------------------------------------|------------------------------------------------------------------|\n",
    "| `image = cv2.imread('animal.jpg')` | Reads the image file 'animal.jpg' and loads it into a NumPy array | Loads pixel data into memory for processing or display           |\n",
    "| `cv2.imshow('Animal', image)`   | Opens a new window titled 'Animal' to display the loaded image  | Displays the image visually in a GUI window                      |\n",
    "| `cv2.waitKey(0)`                | Waits indefinitely for any key press                            | Pauses execution so the image window stays open until user input |\n",
    "| `cv2.destroyAllWindows()`       | Closes all OpenCV-created windows                               | Cleans up GUI windows after the user is done viewing             |\n",
    "\n",
    "#### Summary Table\n",
    "\n",
    "| Step                  | Function/Method       | Input                    | Output/Effect                   | Typical Use Case                            |\n",
    "|-----------------------|----------------------|--------------------------|--------------------------------|--------------------------------------------|\n",
    "| Image Loading         | `cv2.imread()`        | File path (string)       | Image data as NumPy array      | Load image pixels from disk into memory    |\n",
    "| Image Display         | `cv2.imshow()`        | Window name, image array | Opens GUI window showing image | Preview image instantly during processing  |\n",
    "| Wait for Key Press    | `cv2.waitKey(0)`      | Milliseconds (0 = infinite) | Halts program until keypress  | Keeps image window open to view            |\n",
    "| Close Windows          | `cv2.destroyAllWindows()` | None                    | All OpenCV windows closed      | Clean up GUI when done with visualization  |\n",
    "\n",
    "This code snippet is a fundamental example in OpenCV for quickly loading and showing an image, widely used in computer vision workflows for rapid visual inspection and verification.\n"
   ]
  },
  {
   "cell_type": "markdown",
   "id": "78b86d39",
   "metadata": {},
   "source": [
    "#### Load the Dataset"
   ]
  },
  {
   "cell_type": "code",
   "execution_count": 3,
   "id": "ffdcf494",
   "metadata": {},
   "outputs": [],
   "source": [
    "# Load the Image:\n",
    "image = cv2.imread('animal.jpg')\n",
    "# Display the Image:\n",
    "cv2.imshow('Animal', image)\n",
    "# Wait for a key press and close the image window\n",
    "cv2.waitKey(0)\n",
    "cv2.destroyAllWindows()"
   ]
  },
  {
   "cell_type": "code",
   "execution_count": 4,
   "id": "5056c631",
   "metadata": {},
   "outputs": [
    {
     "name": "stdout",
     "output_type": "stream",
     "text": [
      "Image Shape: (433, 660, 3)\n"
     ]
    }
   ],
   "source": [
    "# Check the Shape of Image:\n",
    "print(\"Image Shape:\", image.shape)"
   ]
  },
  {
   "cell_type": "markdown",
   "id": "ce6f810c",
   "metadata": {},
   "source": [
    "#### Purpose\n",
    "\n",
    "- **Load a color image** from disk.\n",
    "- **Convert the color image to grayscale**, simplifying it to a single color channel (shades of gray).\n",
    "- **Display the grayscale image** in a window for visual inspection.\n",
    "- Wait for a user key press and then **close the display window**.\n",
    "\n",
    "#### Meaning\n",
    "\n",
    "| Line of Code                          | Meaning                                             | Details                                                                               |\n",
    "|-------------------------------------|-----------------------------------------------------|---------------------------------------------------------------------------------------|\n",
    "| `cv2.imread('animal.jpg')`           | Reads the image as a color image (BGR format)       | Loads the image pixels into a NumPy array with 3 color channels (Blue, Green, Red)     |\n",
    "| `cv2.cvtColor(image, cv2.COLOR_BGR2GRAY)` | Converts the image from BGR color space to grayscale | Combines color channels into one intensity channel, producing shades of gray          |\n",
    "| `cv2.imshow('Grayscale Image', gray_image)` | Creates a window titled 'Grayscale Image' and shows the grayscale image | Opens a GUI window displaying the single-channel grayscale image                       |\n",
    "| `cv2.waitKey(0)`                    | Waits indefinitely for any key press                 | Keeps the window open until a key event occurs                                       |\n",
    "| `cv2.destroyAllWindows()`           | Closes all OpenCV windows                            | Closes the image display window and releases resources                                |\n",
    "\n",
    "#### Summary Table\n",
    "\n",
    "| Step                         | Function/Method                | Input                                   | Output/Effect                             | Typical Usage                                     |\n",
    "|------------------------------|-------------------------------|----------------------------------------|-------------------------------------------|--------------------------------------------------|\n",
    "| Load image                   | `cv2.imread()`                 | File path (string)                      | Color image as NumPy array (BGR format)   | Read image for processing or visualization        |\n",
    "| Convert to grayscale          | `cv2.cvtColor()`               | Color image, conversion flag            | Single channel grayscale image             | Simplify image to intensity values                |\n",
    "| Display image                | `cv2.imshow()`                 | Window title, image                      | Opens GUI window showing image              | Visual check or debugging of image data            |\n",
    "| Wait for user interaction    | `cv2.waitKey(0)`               | Delay time (0 means infinite)            | Pauses program until key press              | Keeps GUI open for viewer to see image             |\n",
    "| Close GUI windows            | `cv2.destroyAllWindows()`      | None                                    | Closes all OpenCV windows                    | Clean-up and exit after viewing                     |\n",
    "\n",
    "#### Additional Notes\n",
    "\n",
    "- Conversion to grayscale is common in image processing to reduce complexity and speed up algorithms, since grayscale images have only one channel vs three for color.\n",
    "- Grayscale images are especially useful for tasks like edge detection, thresholding, and many machine learning applications where color is less important.\n",
    "- OpenCV uses BGR (Blue, Green, Red) instead of RGB by default, which is why the conversion flag uses `cv2.COLOR_BGR2GRAY`.\n",
    "\n"
   ]
  },
  {
   "cell_type": "markdown",
   "id": "207a12ab",
   "metadata": {},
   "source": [
    "#### Convert the Image into Gray Scale format"
   ]
  },
  {
   "cell_type": "code",
   "execution_count": 3,
   "id": "9c9d48f8",
   "metadata": {},
   "outputs": [],
   "source": [
    "import cv2\n",
    "\n",
    "# Load an image (make sure the path is correct)\n",
    "image = cv2.imread('animal.jpg')\n",
    "\n",
    "# Change the Color Space to Grayscale\n",
    "gray_image = cv2.cvtColor(image, cv2.COLOR_BGR2GRAY)\n",
    "\n",
    "# Display the Grayscale Image\n",
    "cv2.imshow('Grayscale Image', gray_image)\n",
    "cv2.waitKey(0)  # Wait for a key press to close the window\n",
    "cv2.destroyAllWindows()\n"
   ]
  },
  {
   "cell_type": "markdown",
   "id": "d33cd649",
   "metadata": {},
   "source": [
    "#### Display Height and Width of Image"
   ]
  },
  {
   "cell_type": "code",
   "execution_count": 5,
   "id": "4e9f9dab",
   "metadata": {},
   "outputs": [
    {
     "name": "stdout",
     "output_type": "stream",
     "text": [
      "Height of Image: 433, Width of Image: 660\n"
     ]
    }
   ],
   "source": [
    "# Print the Height and Width of the Image\n",
    "height, width = image.shape[:2]\n",
    "print(f\"Height of Image: {height}, Width of Image: {width}\")"
   ]
  },
  {
   "cell_type": "markdown",
   "id": "e67040ee",
   "metadata": {},
   "source": [
    "#### Save the Edit Images"
   ]
  },
  {
   "cell_type": "code",
   "execution_count": 7,
   "id": "5f339dd6",
   "metadata": {},
   "outputs": [
    {
     "data": {
      "text/plain": [
       "True"
      ]
     },
     "execution_count": 7,
     "metadata": {},
     "output_type": "execute_result"
    }
   ],
   "source": [
    "# Save the Images edit with OpenCV:\n",
    "cv2.imwrite('Save/animal.jpg', image)\n",
    "# Save the Grayscale Image\n",
    "cv2.imwrite('Save/animal_gray.jpg', gray_image)"
   ]
  },
  {
   "cell_type": "code",
   "execution_count": null,
   "id": "f6259413",
   "metadata": {},
   "outputs": [],
   "source": []
  }
 ],
 "metadata": {
  "kernelspec": {
   "display_name": "opencv",
   "language": "python",
   "name": "python3"
  },
  "language_info": {
   "codemirror_mode": {
    "name": "ipython",
    "version": 3
   },
   "file_extension": ".py",
   "mimetype": "text/x-python",
   "name": "python",
   "nbconvert_exporter": "python",
   "pygments_lexer": "ipython3",
   "version": "3.8.20"
  }
 },
 "nbformat": 4,
 "nbformat_minor": 5
}
