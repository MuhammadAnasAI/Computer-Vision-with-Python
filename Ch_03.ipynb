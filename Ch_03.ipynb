{
 "cells": [
  {
   "cell_type": "markdown",
   "metadata": {},
   "source": [
    "### Change Image into Gray Scale"
   ]
  },
  {
   "cell_type": "code",
   "execution_count": 5,
   "metadata": {},
   "outputs": [],
   "source": [
    "#Import the libraries:\n",
    "import cv2 as cv\n",
    "#Read the Image:\n",
    "img = cv.imread(\"resources/image.jpg\")\n",
    "img1 = cv.imread(\"resources/image.jpg\")\n",
    "#Resize the Image:\n",
    "img = cv.resize(img, (500, 500))\n",
    "#Convert into gray color:\n",
    "img1 = cv.cvtColor(img1, cv.COLOR_BGR2GRAY)\n",
    "#Display the Image\n",
    "cv.imshow(\"Image\", img)\n",
    "cv.imshow(\"First Image\", img1)\n",
    "# Wait for the user to press a key\n",
    "key = cv.waitKey(0)\n",
    "cv.destroyAllWindows()"
   ]
  },
  {
   "cell_type": "code",
   "execution_count": null,
   "metadata": {},
   "outputs": [],
   "source": []
  }
 ],
 "metadata": {
  "kernelspec": {
   "display_name": "open_cv",
   "language": "python",
   "name": "python3"
  },
  "language_info": {
   "codemirror_mode": {
    "name": "ipython",
    "version": 3
   },
   "file_extension": ".py",
   "mimetype": "text/x-python",
   "name": "python",
   "nbconvert_exporter": "python",
   "pygments_lexer": "ipython3",
   "version": "3.12.4"
  }
 },
 "nbformat": 4,
 "nbformat_minor": 2
}
