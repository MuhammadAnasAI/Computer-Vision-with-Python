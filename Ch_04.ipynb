{
 "cells": [
  {
   "cell_type": "markdown",
   "metadata": {},
   "source": [
    "### Convert an Image into Black and white form:"
   ]
  },
  {
   "cell_type": "code",
   "execution_count": 4,
   "metadata": {},
   "outputs": [],
   "source": [
    "#Import the library:\n",
    "import cv2 as cv\n",
    "# Apply the method:\n",
    "img = cv.imread('anas.jpg')\n",
    "# Convert into gray form:\n",
    "img_gray = cv.cvtColor(img, cv.COLOR_BGR2GRAY)\n",
    "#Now Convert the image into black and white:\n",
    "(threshold, b_w) = cv.threshold(img_gray, 127, 255, cv.THRESH_BINARY)\n",
    "#Show the Images:\n",
    "cv.imshow('Original', img)\n",
    "cv.imshow('Gray', img_gray)\n",
    "cv.imshow('Black and White', b_w)\n",
    "cv.waitKey(0)\n",
    "cv.destroyAllWindows()\n"
   ]
  },
  {
   "cell_type": "code",
   "execution_count": null,
   "metadata": {},
   "outputs": [],
   "source": []
  }
 ],
 "metadata": {
  "kernelspec": {
   "display_name": "open_cv",
   "language": "python",
   "name": "python3"
  },
  "language_info": {
   "codemirror_mode": {
    "name": "ipython",
    "version": 3
   },
   "file_extension": ".py",
   "mimetype": "text/x-python",
   "name": "python",
   "nbconvert_exporter": "python",
   "pygments_lexer": "ipython3",
   "version": "3.12.4"
  }
 },
 "nbformat": 4,
 "nbformat_minor": 2
}
