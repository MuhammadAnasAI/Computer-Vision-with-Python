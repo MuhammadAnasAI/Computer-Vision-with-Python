{
 "cells": [
  {
   "cell_type": "markdown",
   "metadata": {},
   "source": [
    "### Change the video to gray scale and binary colors:"
   ]
  },
  {
   "cell_type": "code",
   "execution_count": 2,
   "metadata": {},
   "outputs": [],
   "source": [
    "#Video Reading:\n",
    "import cv2 as cv\n",
    "#Create the Video Reading Model:\n",
    "cap = cv.VideoCapture('video.mp4')\n",
    "while(True):\n",
    "    # Capture frame-by-frame\n",
    "    (ret, frame) = cap.read() \n",
    "    grayframe = cv.cvtColor(frame,cv.COLOR_BGR2GRAY)\n",
    "    (thresh, b_w) = cv.threshold(grayframe, 127, 255, cv.THRESH_BINARY)\n",
    "    if ret == True:\n",
    "        cv.imshow(\"Video\", grayframe)\n",
    "        cv.imshow(\"Video\", b_w)\n",
    "        if cv.waitKey(1) & 0xFF == ord('q'):\n",
    "            break\n",
    "cap.release()\n",
    "cv.destroyAllWindows()"
   ]
  },
  {
   "cell_type": "code",
   "execution_count": null,
   "metadata": {},
   "outputs": [],
   "source": []
  }
 ],
 "metadata": {
  "kernelspec": {
   "display_name": "open_cv",
   "language": "python",
   "name": "python3"
  },
  "language_info": {
   "codemirror_mode": {
    "name": "ipython",
    "version": 3
   },
   "file_extension": ".py",
   "mimetype": "text/x-python",
   "name": "python",
   "nbconvert_exporter": "python",
   "pygments_lexer": "ipython3",
   "version": "3.12.4"
  }
 },
 "nbformat": 4,
 "nbformat_minor": 2
}
