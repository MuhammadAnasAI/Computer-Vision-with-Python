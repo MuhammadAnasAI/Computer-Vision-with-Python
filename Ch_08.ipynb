{
 "cells": [
  {
   "cell_type": "markdown",
   "metadata": {},
   "source": [
    "## Save the Video"
   ]
  },
  {
   "cell_type": "code",
   "execution_count": 1,
   "metadata": {},
   "outputs": [],
   "source": [
    "#Video Reading:\n",
    "import cv2 as cv\n",
    "#Create the Video Reading Model:\n",
    "cap = cv.VideoCapture('video.mp4')\n",
    "#Save the Video:\n",
    "frame_width = int(cap.get(3))\n",
    "frame_height = int(cap.get(4))\n",
    "out = cv.VideoWriter('out_video.avi', cv.VideoWriter_fourcc('M', 'j', 'P', 'G'), 10\n",
    "                     , (frame_width, frame_height))\n",
    "while(True):\n",
    "    # Capture frame-by-frame\n",
    "    (ret, frame) = cap.read()\n",
    "    grayframe = cv.cvtColor(frame, cv.COLOR_BGR2GRAY)\n",
    "    if ret == True:\n",
    "        out.write(grayframe)\n",
    "        cv.imshow(\"Video\", grayframe)\n",
    "        if cv.waitKey(1) & 0xFF == ord('q'):\n",
    "            break\n",
    "cap.release()\n",
    "cv.destroyAllWindows()"
   ]
  },
  {
   "cell_type": "code",
   "execution_count": null,
   "metadata": {},
   "outputs": [],
   "source": []
  }
 ],
 "metadata": {
  "kernelspec": {
   "display_name": "open_cv",
   "language": "python",
   "name": "python3"
  },
  "language_info": {
   "codemirror_mode": {
    "name": "ipython",
    "version": 3
   },
   "file_extension": ".py",
   "mimetype": "text/x-python",
   "name": "python",
   "nbconvert_exporter": "python",
   "pygments_lexer": "ipython3",
   "version": "3.12.4"
  }
 },
 "nbformat": 4,
 "nbformat_minor": 2
}
