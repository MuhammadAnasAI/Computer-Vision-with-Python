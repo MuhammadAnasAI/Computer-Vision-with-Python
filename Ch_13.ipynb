{
 "cells": [
  {
   "cell_type": "markdown",
   "metadata": {},
   "source": [
    "# Basic function in the OpenCV"
   ]
  },
  {
   "cell_type": "code",
   "execution_count": 23,
   "metadata": {},
   "outputs": [
    {
     "name": "stdout",
     "output_type": "stream",
     "text": [
      "The Size of our Image:  (500, 300, 3)\n"
     ]
    }
   ],
   "source": [
    "#import the library:\n",
    "import cv2 as cv\n",
    "import numpy as np\n",
    "#Read the image:\n",
    "img = cv.imread('anas.jpg')\n",
    "img = cv.resize(img, (300, 500))\n",
    "\n",
    "#Resize the Image:\n",
    "resize = cv.resize(img, (1080, 720)) #Image width and height\n",
    "#Blurr Image:\n",
    "blurr_img = cv.GaussianBlur(img, (21, 21), 0) #Always use odd values for blurr (matrix based) and \n",
    "# used the sigma values\n",
    "\n",
    "\n",
    "#Edge Detection:\n",
    "edge_img = cv.Canny(img, 53, 53)\n",
    "\n",
    "#Thinkness of lines:\n",
    "mat_kernal = np.ones((3, 3), np.uint8) #Create the Matrix for Edge Thinkness\n",
    "dilate_img = cv.dilate(edge_img, (mat_kernal), iterations=1) #Cover all the edges\n",
    "\n",
    "# Make the Erosion outlier of image:\n",
    "ero_img = cv.erode(dilate_img, (mat_kernal), iterations=1)\n",
    "\n",
    "#Croping of Images we will use numpy library:\n",
    "print(\"The Size of our Image: \", img.shape)\n",
    "crop_img = img[0:250, 0:150]\n",
    "\n",
    "\n",
    "\n",
    "#Show the img:\n",
    "cv.imshow('image', img)\n",
    "cv.imshow(\"Resized\", resize)\n",
    "cv.imshow(\"Blurr Image\",blurr_img)\n",
    "cv.imshow(\"Edge Detection\", edge_img)\n",
    "cv.imshow(\"Dilate Image\", dilate_img)\n",
    "cv.imshow(\"Erosion Image\", ero_img)\n",
    "cv.imshow(\"Croped Image\", crop_img)\n",
    "cv.waitKey(0)\n",
    "cv.destroyAllWindows()"
   ]
  },
  {
   "cell_type": "code",
   "execution_count": null,
   "metadata": {},
   "outputs": [],
   "source": []
  }
 ],
 "metadata": {
  "kernelspec": {
   "display_name": "open_cv",
   "language": "python",
   "name": "python3"
  },
  "language_info": {
   "codemirror_mode": {
    "name": "ipython",
    "version": 3
   },
   "file_extension": ".py",
   "mimetype": "text/x-python",
   "name": "python",
   "nbconvert_exporter": "python",
   "pygments_lexer": "ipython3",
   "version": "3.12.4"
  }
 },
 "nbformat": 4,
 "nbformat_minor": 2
}
