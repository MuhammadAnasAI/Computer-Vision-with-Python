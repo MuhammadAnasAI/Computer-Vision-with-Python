{
 "cells": [
  {
   "cell_type": "code",
   "execution_count": 33,
   "metadata": {},
   "outputs": [
    {
     "name": "stdout",
     "output_type": "stream",
     "text": [
      "The size of Image is: (600, 600)\n"
     ]
    }
   ],
   "source": [
    "#Import the libraries:\n",
    "import cv2 as cv\n",
    "import numpy as np\n",
    "\n",
    "#Draw a canva:\n",
    "img = np.zeros((600, 600)) #For Black color creation\n",
    "img_1 = np.ones((600, 600)) #For White color creation\n",
    "\n",
    "#Print the size of Canva's is :\n",
    "print(\"The size of Image is:\",img.shape)\n",
    "#print(img)\n",
    "\n",
    "#Adding the color in the img:\n",
    "colored_img = np.zeros((600, 600, 3),np.uint8) #Adding the Color channels\n",
    "colored_img[:] = 255, 121, 212 #Complete image color\n",
    "colored_img[120:180, 120:230] = 255, 50, 120 #Part of image to be color\n",
    "#Add a line:\n",
    "cv.line(colored_img, (0, 0), (colored_img.shape[0], colored_img.shape[1]), (230, 230, 0), 3) \n",
    "cv.line(colored_img, (0, 0), (200, 200), (230, 10, 23), 3)\n",
    "#Add a rectangle:\n",
    "cv.rectangle(colored_img, (100, 100), (200, 200), (0, 245, 230), 3) #Draw the Rectangle\n",
    "cv.rectangle(colored_img, (100, 100), (200, 200), (0, 245, 230), cv.FILLED) #Fill the Rectangle\n",
    "#Add a circle:\n",
    "#Create the Circle and Fill the Circle:\n",
    "cv.circle(colored_img, (300, 400), 100, (0, 120, 235), 2)\n",
    "cv.circle(colored_img, (300, 400), 100, (0, 120, 235), cv.FILLED)\n",
    "#Add the text:\n",
    "cv.putText(colored_img, \"Hello, World!\", (230, 250), cv.FONT_HERSHEY_COMPLEX, 1, (255, 245, 0), 2)\n",
    "#cv.imshow(\"Image\", img)\n",
    "#cv.imshow(\"Image 1\", img_1)\n",
    "cv.imshow(\"Colored Image\", colored_img)\n",
    "cv.waitKey(0)\n",
    "cv.destroyAllWindows()"
   ]
  },
  {
   "cell_type": "code",
   "execution_count": null,
   "metadata": {},
   "outputs": [],
   "source": []
  }
 ],
 "metadata": {
  "kernelspec": {
   "display_name": "open_cv",
   "language": "python",
   "name": "python3"
  },
  "language_info": {
   "codemirror_mode": {
    "name": "ipython",
    "version": 3
   },
   "file_extension": ".py",
   "mimetype": "text/x-python",
   "name": "python",
   "nbconvert_exporter": "python",
   "pygments_lexer": "ipython3",
   "version": "3.12.4"
  }
 },
 "nbformat": 4,
 "nbformat_minor": 2
}
