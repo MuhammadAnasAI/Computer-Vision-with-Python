{
 "cells": [
  {
   "cell_type": "markdown",
   "metadata": {},
   "source": [
    "# How can we Increase the Resolution of our Videos (Webcam):"
   ]
  },
  {
   "cell_type": "code",
   "execution_count": 7,
   "metadata": {},
   "outputs": [],
   "source": [
    "#Import the libraries:\n",
    "import cv2 as cv\n",
    "import numpy as np\n",
    "\n",
    "cap = cv.VideoCapture(0)\n",
    "#Resolution HD(1280 x 720):\n",
    "def hd_resolution():\n",
    "    cap.set(3, 1280) #Width\n",
    "    cap.set(4, 720)  #Height\n",
    "def sd_resolution():\n",
    "    cap.set(3, 680) #Width\n",
    "    cap.set(4, 480)\n",
    "def fhd_resolution():\n",
    "    cap.set(3, 1920) #Width\n",
    "    cap.set(4, 1080)    \n",
    "\n",
    "#hd_resolution()\n",
    "#sd_resolution()\n",
    "fhd_resolution()\n",
    "\n",
    "while(True):\n",
    "    ret, frame = cap.read()\n",
    "    if ret == True:\n",
    "        cv.imshow(\"Camera\", frame)\n",
    "        if cv.waitKey(1) & 0xFF == ord('q'):\n",
    "            break\n",
    "    else:\n",
    "        break \n",
    "\n",
    "cap.release()\n",
    "cv.destroyAllWindows()"
   ]
  }
 ],
 "metadata": {
  "kernelspec": {
   "display_name": "open_cv",
   "language": "python",
   "name": "python3"
  },
  "language_info": {
   "codemirror_mode": {
    "name": "ipython",
    "version": 3
   },
   "file_extension": ".py",
   "mimetype": "text/x-python",
   "name": "python",
   "nbconvert_exporter": "python",
   "pygments_lexer": "ipython3",
   "version": "3.12.4"
  }
 },
 "nbformat": 4,
 "nbformat_minor": 2
}
