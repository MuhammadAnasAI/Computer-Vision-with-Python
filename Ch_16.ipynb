{
 "cells": [
  {
   "cell_type": "markdown",
   "metadata": {},
   "source": [
    "# Saving HD recording of Cam Streaming"
   ]
  },
  {
   "cell_type": "code",
   "execution_count": 5,
   "metadata": {},
   "outputs": [],
   "source": [
    "#Import the libraries:\n",
    "import cv2 as cv\n",
    "import numpy as np\n",
    "\n",
    "cap = cv.VideoCapture(0)\n",
    "#Resolution HD(1280 x 720):\n",
    "def hd_resolution():\n",
    "    cap.set(3, 1280) #Width\n",
    "    cap.set(4, 720)  #Height\n",
    "def sd_resolution():\n",
    "    cap.set(3, 680) #Width\n",
    "    cap.set(4, 480)\n",
    "def fhd_resolution():\n",
    "    cap.set(3, 1920) #Width\n",
    "    cap.set(4, 1080)    \n",
    "\n",
    "hd_resolution()\n",
    "#sd_resolution()\n",
    "#fhd_resolution()\n",
    "\n",
    "frame_width = int(cap.get(3))\n",
    "frame_height = int(cap.get(4))\n",
    "out = cv.VideoWriter('resources/cam3_video.avi', cv.VideoWriter_fourcc('M', 'j', 'P', 'G'), 30 , (frame_width, frame_height))\n",
    "while(True):\n",
    "    # Capture frame-by-frame\n",
    "    (ret, frame) = cap.read()\n",
    "    #grayframe = cv.cvtColor(frame, cv.COLOR_BGR2GRAY)\n",
    "    if ret == True:\n",
    "        out.write(frame)\n",
    "        cv.imshow(\"Video\", frame)\n",
    "        if cv.waitKey(1) & 0xFF == ord('q'):\n",
    "            break\n",
    "cap.release()\n",
    "cv.destroyAllWindows()\n",
    "\n",
    "cap.release()\n",
    "cv.destroyAllWindows()"
   ]
  },
  {
   "cell_type": "code",
   "execution_count": null,
   "metadata": {},
   "outputs": [],
   "source": []
  }
 ],
 "metadata": {
  "kernelspec": {
   "display_name": "open_cv",
   "language": "python",
   "name": "python3"
  },
  "language_info": {
   "codemirror_mode": {
    "name": "ipython",
    "version": 3
   },
   "file_extension": ".py",
   "mimetype": "text/x-python",
   "name": "python",
   "nbconvert_exporter": "python",
   "pygments_lexer": "ipython3",
   "version": "3.12.4"
  }
 },
 "nbformat": 4,
 "nbformat_minor": 2
}
