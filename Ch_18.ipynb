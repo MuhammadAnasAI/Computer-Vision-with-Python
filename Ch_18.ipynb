{
 "cells": [
  {
   "cell_type": "markdown",
   "metadata": {},
   "source": [
    "# How to change the Perpective of an Image"
   ]
  },
  {
   "cell_type": "code",
   "execution_count": 3,
   "metadata": {},
   "outputs": [
    {
     "name": "stdout",
     "output_type": "stream",
     "text": [
      "(720, 847, 3)\n"
     ]
    }
   ],
   "source": [
    "#Import libraries:\n",
    "import cv2 as cv\n",
    "import numpy as np\n",
    "img = cv.imread(\"resources/wrap.jpg\")\n",
    "#print(img.shape)\n",
    "#Defining the Points:\n",
    "pnt1 = np.float32([[389 , 214], [785 , 280], [559 , 549], [70, 436]])\n",
    "width = 847\n",
    "height = 720\n",
    "pnt2 = np.float32([[0, 0], [847, 0], [0, 720], [width, height]])\n",
    "\n",
    "matrix = cv.getPerspectiveTransform(pnt1, pnt2)\n",
    "out_img = cv.warpPerspective(img, matrix, (width, height))\n",
    "cv.imshow(\"Original\",img)\n",
    "cv.imshow(\"Transform\",out_img)\n",
    "cv.waitKey(0)\n",
    "cv.destroyAllWindows()\n"
   ]
  },
  {
   "cell_type": "code",
   "execution_count": null,
   "metadata": {},
   "outputs": [],
   "source": [
    "389214\n",
    "785280\n",
    "70436\n",
    "559549"
   ]
  }
 ],
 "metadata": {
  "kernelspec": {
   "display_name": "open_cv",
   "language": "python",
   "name": "python3"
  },
  "language_info": {
   "codemirror_mode": {
    "name": "ipython",
    "version": 3
   },
   "file_extension": ".py",
   "mimetype": "text/x-python",
   "name": "python",
   "nbconvert_exporter": "python",
   "pygments_lexer": "ipython3",
   "version": "3.12.4"
  }
 },
 "nbformat": 4,
 "nbformat_minor": 2
}
