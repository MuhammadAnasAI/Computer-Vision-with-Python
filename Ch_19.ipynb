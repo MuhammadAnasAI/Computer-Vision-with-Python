{
 "cells": [
  {
   "cell_type": "code",
   "execution_count": 20,
   "metadata": {},
   "outputs": [
    {
     "name": "stdout",
     "output_type": "stream",
     "text": [
      "389  212\n",
      "380  291\n"
     ]
    }
   ],
   "source": [
    "#Color of an Image:\n",
    "#Coordinates of Image:\n",
    "import numpy as np\n",
    "import cv2 as cv\n",
    "\n",
    "# Define a function to handle mouse events and print the coordinates of the click\n",
    "def find_corr(event, x, y, flags, params):\n",
    "    if event == cv.EVENT_LBUTTONDOWN:  # Correct event for left button click\n",
    "        print(x, '', y)\n",
    "        font = cv.FONT_HERSHEY_PLAIN\n",
    "        cv.putText(img, str(x)+\",\"+str(y), (x, y), font, 1, (41,42,88), thickness=2)\n",
    "        cv.imshow(\"image\", img)\n",
    "        #For color finding:\n",
    "    if event == cv.EVENT_RBUTTONDOWN:\n",
    "        print(x, \"\", y)\n",
    "        font = cv.FONT_HERSHEY_PLAIN\n",
    "        b = img[x,y, 0]\n",
    "        g = img[x,y, 1]\n",
    "        r = img[x,y, 2]\n",
    "        cv.putText(img, str(b)+\",\"+str(g)+\",\"+str(r), (x,y), font, 1, (255,0,0), thickness=2)\n",
    "        cv.imshow(\"image\", img)\n",
    "\n",
    "# Main function to run the code\n",
    "if __name__ == \"__main__\":  # Fix the typo here\n",
    "    img = cv.imread('resources/wrap.jpg', 1)\n",
    "    \n",
    "    if img is None:\n",
    "        print(\"Error: Image not found or unable to read.\")\n",
    "    else:\n",
    "        cv.imshow(\"image\", img)\n",
    "        # Setting callback function for mouse events\n",
    "        cv.setMouseCallback(\"image\", find_corr)\n",
    "        cv.waitKey(0)\n",
    "        cv.destroyAllWindows()\n"
   ]
  },
  {
   "cell_type": "code",
   "execution_count": null,
   "metadata": {},
   "outputs": [],
   "source": []
  }
 ],
 "metadata": {
  "kernelspec": {
   "display_name": "open_cv",
   "language": "python",
   "name": "python3"
  },
  "language_info": {
   "codemirror_mode": {
    "name": "ipython",
    "version": 3
   },
   "file_extension": ".py",
   "mimetype": "text/x-python",
   "name": "python",
   "nbconvert_exporter": "python",
   "pygments_lexer": "ipython3",
   "version": "3.12.4"
  }
 },
 "nbformat": 4,
 "nbformat_minor": 2
}
