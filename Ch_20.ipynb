{
 "cells": [
  {
   "cell_type": "markdown",
   "metadata": {},
   "source": [
    "# Scraping the frames from the video"
   ]
  },
  {
   "cell_type": "code",
   "execution_count": 3,
   "metadata": {},
   "outputs": [],
   "source": [
    "# Import the libraries\n",
    "import cv2 as cv\n",
    "\n",
    "# Import the video file\n",
    "cap = cv.VideoCapture(\"resources/video.mp4\")\n",
    "frameNr = 0\n",
    "\n",
    "# Loop through the frames of the video\n",
    "while True:\n",
    "    success, frame = cap.read()\n",
    "    if success:\n",
    "        # Save the current frame as an image\n",
    "        cv.imwrite(f\"resources/frames/frame_{frameNr}.jpg\", frame)\n",
    "        frameNr =frameNr + 1\n",
    "    else:\n",
    "        break\n",
    "\n",
    "# Release the video capture object\n",
    "cap.release()"
   ]
  },
  {
   "cell_type": "code",
   "execution_count": null,
   "metadata": {},
   "outputs": [],
   "source": []
  }
 ],
 "metadata": {
  "kernelspec": {
   "display_name": "open_cv",
   "language": "python",
   "name": "python3"
  },
  "language_info": {
   "codemirror_mode": {
    "name": "ipython",
    "version": 3
   },
   "file_extension": ".py",
   "mimetype": "text/x-python",
   "name": "python",
   "nbconvert_exporter": "python",
   "pygments_lexer": "ipython3",
   "version": "3.12.4"
  }
 },
 "nbformat": 4,
 "nbformat_minor": 2
}
